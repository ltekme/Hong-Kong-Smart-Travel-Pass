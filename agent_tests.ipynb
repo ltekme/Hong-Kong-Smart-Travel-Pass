{
 "cells": [
  {
   "cell_type": "code",
   "execution_count": 20,
   "metadata": {},
   "outputs": [
    {
     "name": "stdout",
     "output_type": "stream",
     "text": [
      "Requirement already satisfied: chromadb in c:\\users\\karlc\\appdata\\local\\programs\\python\\python312\\lib\\site-packages (from -r requirements.txt (line 1)) (0.5.12)\n",
      "Requirement already satisfied: langchain in c:\\users\\karlc\\appdata\\local\\programs\\python\\python312\\lib\\site-packages (from -r requirements.txt (line 2)) (0.3.3)\n",
      "Requirement already satisfied: langchain_core in c:\\users\\karlc\\appdata\\local\\programs\\python\\python312\\lib\\site-packages (from -r requirements.txt (line 3)) (0.3.10)\n",
      "Requirement already satisfied: langchain_chroma in c:\\users\\karlc\\appdata\\local\\programs\\python\\python312\\lib\\site-packages (from -r requirements.txt (line 4)) (0.1.4)\n",
      "Requirement already satisfied: langchain_community in c:\\users\\karlc\\appdata\\local\\programs\\python\\python312\\lib\\site-packages (from -r requirements.txt (line 5)) (0.3.2)\n",
      "Requirement already satisfied: langchain_text_splitters in c:\\users\\karlc\\appdata\\local\\programs\\python\\python312\\lib\\site-packages (from -r requirements.txt (line 6)) (0.3.0)\n",
      "Requirement already satisfied: langchain_google_vertexai in c:\\users\\karlc\\appdata\\local\\programs\\python\\python312\\lib\\site-packages (from -r requirements.txt (line 7)) (2.0.4)\n",
      "Requirement already satisfied: jq in c:\\users\\karlc\\appdata\\local\\programs\\python\\python312\\lib\\site-packages (from -r requirements.txt (line 8)) (1.8.0)\n",
      "Requirement already satisfied: google in c:\\users\\karlc\\appdata\\local\\programs\\python\\python312\\lib\\site-packages (from -r requirements.txt (line 9)) (3.0.0)\n",
      "Requirement already satisfied: google-api-core in c:\\users\\karlc\\appdata\\local\\programs\\python\\python312\\lib\\site-packages (from -r requirements.txt (line 10)) (2.20.0)\n",
      "Requirement already satisfied: google-auth in c:\\users\\karlc\\appdata\\local\\programs\\python\\python312\\lib\\site-packages (from -r requirements.txt (line 11)) (2.35.0)\n",
      "Requirement already satisfied: google-cloud-aiplatform in c:\\users\\karlc\\appdata\\local\\programs\\python\\python312\\lib\\site-packages (from -r requirements.txt (line 12)) (1.70.0)\n",
      "Requirement already satisfied: google-cloud-bigquery in c:\\users\\karlc\\appdata\\local\\programs\\python\\python312\\lib\\site-packages (from -r requirements.txt (line 13)) (3.26.0)\n",
      "Requirement already satisfied: google-cloud-core in c:\\users\\karlc\\appdata\\local\\programs\\python\\python312\\lib\\site-packages (from -r requirements.txt (line 14)) (2.4.1)\n",
      "Requirement already satisfied: google-cloud-resource-manager in c:\\users\\karlc\\appdata\\local\\programs\\python\\python312\\lib\\site-packages (from -r requirements.txt (line 15)) (1.12.5)\n",
      "Requirement already satisfied: google-cloud-storage in c:\\users\\karlc\\appdata\\local\\programs\\python\\python312\\lib\\site-packages (from -r requirements.txt (line 16)) (2.18.2)\n",
      "Requirement already satisfied: google-crc32c in c:\\users\\karlc\\appdata\\local\\programs\\python\\python312\\lib\\site-packages (from -r requirements.txt (line 17)) (1.6.0)\n",
      "Requirement already satisfied: google-resumable-media in c:\\users\\karlc\\appdata\\local\\programs\\python\\python312\\lib\\site-packages (from -r requirements.txt (line 18)) (2.7.2)\n",
      "Requirement already satisfied: googleapis-common-protos in c:\\users\\karlc\\appdata\\local\\programs\\python\\python312\\lib\\site-packages (from -r requirements.txt (line 19)) (1.65.0)\n",
      "Requirement already satisfied: build>=1.0.3 in c:\\users\\karlc\\appdata\\local\\programs\\python\\python312\\lib\\site-packages (from chromadb->-r requirements.txt (line 1)) (1.2.2.post1)\n",
      "Requirement already satisfied: pydantic>=1.9 in c:\\users\\karlc\\appdata\\local\\programs\\python\\python312\\lib\\site-packages (from chromadb->-r requirements.txt (line 1)) (2.9.2)\n",
      "Requirement already satisfied: chroma-hnswlib==0.7.6 in c:\\users\\karlc\\appdata\\local\\programs\\python\\python312\\lib\\site-packages (from chromadb->-r requirements.txt (line 1)) (0.7.6)\n",
      "Requirement already satisfied: fastapi>=0.95.2 in c:\\users\\karlc\\appdata\\local\\programs\\python\\python312\\lib\\site-packages (from chromadb->-r requirements.txt (line 1)) (0.115.0)\n",
      "Requirement already satisfied: uvicorn>=0.18.3 in c:\\users\\karlc\\appdata\\local\\programs\\python\\python312\\lib\\site-packages (from uvicorn[standard]>=0.18.3->chromadb->-r requirements.txt (line 1)) (0.31.0)\n",
      "Requirement already satisfied: numpy>=1.22.5 in c:\\users\\karlc\\appdata\\local\\programs\\python\\python312\\lib\\site-packages (from chromadb->-r requirements.txt (line 1)) (1.26.4)\n",
      "Requirement already satisfied: posthog>=2.4.0 in c:\\users\\karlc\\appdata\\local\\programs\\python\\python312\\lib\\site-packages (from chromadb->-r requirements.txt (line 1)) (3.7.0)\n",
      "Requirement already satisfied: typing-extensions>=4.5.0 in c:\\users\\karlc\\appdata\\local\\programs\\python\\python312\\lib\\site-packages (from chromadb->-r requirements.txt (line 1)) (4.12.2)\n",
      "Requirement already satisfied: onnxruntime>=1.14.1 in c:\\users\\karlc\\appdata\\local\\programs\\python\\python312\\lib\\site-packages (from chromadb->-r requirements.txt (line 1)) (1.19.2)\n",
      "Requirement already satisfied: opentelemetry-api>=1.2.0 in c:\\users\\karlc\\appdata\\local\\programs\\python\\python312\\lib\\site-packages (from chromadb->-r requirements.txt (line 1)) (1.27.0)\n",
      "Requirement already satisfied: opentelemetry-exporter-otlp-proto-grpc>=1.2.0 in c:\\users\\karlc\\appdata\\local\\programs\\python\\python312\\lib\\site-packages (from chromadb->-r requirements.txt (line 1)) (1.27.0)\n",
      "Requirement already satisfied: opentelemetry-instrumentation-fastapi>=0.41b0 in c:\\users\\karlc\\appdata\\local\\programs\\python\\python312\\lib\\site-packages (from chromadb->-r requirements.txt (line 1)) (0.48b0)\n",
      "Requirement already satisfied: opentelemetry-sdk>=1.2.0 in c:\\users\\karlc\\appdata\\local\\programs\\python\\python312\\lib\\site-packages (from chromadb->-r requirements.txt (line 1)) (1.27.0)\n",
      "Requirement already satisfied: tokenizers>=0.13.2 in c:\\users\\karlc\\appdata\\local\\programs\\python\\python312\\lib\\site-packages (from chromadb->-r requirements.txt (line 1)) (0.20.0)\n",
      "Requirement already satisfied: pypika>=0.48.9 in c:\\users\\karlc\\appdata\\local\\programs\\python\\python312\\lib\\site-packages (from chromadb->-r requirements.txt (line 1)) (0.48.9)\n",
      "Requirement already satisfied: tqdm>=4.65.0 in c:\\users\\karlc\\appdata\\local\\programs\\python\\python312\\lib\\site-packages (from chromadb->-r requirements.txt (line 1)) (4.66.5)\n",
      "Requirement already satisfied: overrides>=7.3.1 in c:\\users\\karlc\\appdata\\local\\programs\\python\\python312\\lib\\site-packages (from chromadb->-r requirements.txt (line 1)) (7.7.0)\n",
      "Requirement already satisfied: importlib-resources in c:\\users\\karlc\\appdata\\local\\programs\\python\\python312\\lib\\site-packages (from chromadb->-r requirements.txt (line 1)) (6.4.5)\n",
      "Requirement already satisfied: grpcio>=1.58.0 in c:\\users\\karlc\\appdata\\local\\programs\\python\\python312\\lib\\site-packages (from chromadb->-r requirements.txt (line 1)) (1.66.2)\n",
      "Requirement already satisfied: bcrypt>=4.0.1 in c:\\users\\karlc\\appdata\\local\\programs\\python\\python312\\lib\\site-packages (from chromadb->-r requirements.txt (line 1)) (4.2.0)\n",
      "Requirement already satisfied: typer>=0.9.0 in c:\\users\\karlc\\appdata\\local\\programs\\python\\python312\\lib\\site-packages (from chromadb->-r requirements.txt (line 1)) (0.12.5)\n",
      "Requirement already satisfied: kubernetes>=28.1.0 in c:\\users\\karlc\\appdata\\local\\programs\\python\\python312\\lib\\site-packages (from chromadb->-r requirements.txt (line 1)) (31.0.0)\n",
      "Requirement already satisfied: tenacity>=8.2.3 in c:\\users\\karlc\\appdata\\local\\programs\\python\\python312\\lib\\site-packages (from chromadb->-r requirements.txt (line 1)) (8.5.0)\n",
      "Requirement already satisfied: PyYAML>=6.0.0 in c:\\users\\karlc\\appdata\\local\\programs\\python\\python312\\lib\\site-packages (from chromadb->-r requirements.txt (line 1)) (6.0.2)\n",
      "Requirement already satisfied: mmh3>=4.0.1 in c:\\users\\karlc\\appdata\\local\\programs\\python\\python312\\lib\\site-packages (from chromadb->-r requirements.txt (line 1)) (5.0.1)\n",
      "Requirement already satisfied: orjson>=3.9.12 in c:\\users\\karlc\\appdata\\local\\programs\\python\\python312\\lib\\site-packages (from chromadb->-r requirements.txt (line 1)) (3.10.7)\n",
      "Requirement already satisfied: httpx>=0.27.0 in c:\\users\\karlc\\appdata\\local\\programs\\python\\python312\\lib\\site-packages (from chromadb->-r requirements.txt (line 1)) (0.27.2)\n",
      "Requirement already satisfied: rich>=10.11.0 in c:\\users\\karlc\\appdata\\local\\programs\\python\\python312\\lib\\site-packages (from chromadb->-r requirements.txt (line 1)) (13.9.2)\n",
      "Requirement already satisfied: SQLAlchemy<3,>=1.4 in c:\\users\\karlc\\appdata\\local\\programs\\python\\python312\\lib\\site-packages (from langchain->-r requirements.txt (line 2)) (2.0.35)\n",
      "Requirement already satisfied: aiohttp<4.0.0,>=3.8.3 in c:\\users\\karlc\\appdata\\local\\programs\\python\\python312\\lib\\site-packages (from langchain->-r requirements.txt (line 2)) (3.10.9)\n",
      "Requirement already satisfied: langsmith<0.2.0,>=0.1.17 in c:\\users\\karlc\\appdata\\local\\programs\\python\\python312\\lib\\site-packages (from langchain->-r requirements.txt (line 2)) (0.1.132)\n",
      "Requirement already satisfied: requests<3,>=2 in c:\\users\\karlc\\appdata\\local\\programs\\python\\python312\\lib\\site-packages (from langchain->-r requirements.txt (line 2)) (2.32.3)\n",
      "Requirement already satisfied: jsonpatch<2.0,>=1.33 in c:\\users\\karlc\\appdata\\local\\programs\\python\\python312\\lib\\site-packages (from langchain_core->-r requirements.txt (line 3)) (1.33)\n",
      "Requirement already satisfied: packaging<25,>=23.2 in c:\\users\\karlc\\appdata\\local\\programs\\python\\python312\\lib\\site-packages (from langchain_core->-r requirements.txt (line 3)) (24.1)\n",
      "Requirement already satisfied: dataclasses-json<0.7,>=0.5.7 in c:\\users\\karlc\\appdata\\local\\programs\\python\\python312\\lib\\site-packages (from langchain_community->-r requirements.txt (line 5)) (0.6.7)\n",
      "Requirement already satisfied: pydantic-settings<3.0.0,>=2.4.0 in c:\\users\\karlc\\appdata\\local\\programs\\python\\python312\\lib\\site-packages (from langchain_community->-r requirements.txt (line 5)) (2.5.2)\n",
      "Requirement already satisfied: httpx-sse<0.5.0,>=0.4.0 in c:\\users\\karlc\\appdata\\local\\programs\\python\\python312\\lib\\site-packages (from langchain_google_vertexai->-r requirements.txt (line 7)) (0.4.0)\n",
      "Requirement already satisfied: beautifulsoup4 in c:\\users\\karlc\\appdata\\local\\programs\\python\\python312\\lib\\site-packages (from google->-r requirements.txt (line 9)) (4.12.3)\n",
      "Requirement already satisfied: protobuf!=3.20.0,!=3.20.1,!=4.21.0,!=4.21.1,!=4.21.2,!=4.21.3,!=4.21.4,!=4.21.5,<6.0.0.dev0,>=3.19.5 in c:\\users\\karlc\\appdata\\local\\programs\\python\\python312\\lib\\site-packages (from google-api-core->-r requirements.txt (line 10)) (4.25.5)\n",
      "Requirement already satisfied: proto-plus<2.0.0dev,>=1.22.3 in c:\\users\\karlc\\appdata\\local\\programs\\python\\python312\\lib\\site-packages (from google-api-core->-r requirements.txt (line 10)) (1.24.0)\n",
      "Requirement already satisfied: cachetools<6.0,>=2.0.0 in c:\\users\\karlc\\appdata\\local\\programs\\python\\python312\\lib\\site-packages (from google-auth->-r requirements.txt (line 11)) (5.5.0)\n",
      "Requirement already satisfied: pyasn1-modules>=0.2.1 in c:\\users\\karlc\\appdata\\local\\programs\\python\\python312\\lib\\site-packages (from google-auth->-r requirements.txt (line 11)) (0.4.1)\n",
      "Requirement already satisfied: rsa<5,>=3.1.4 in c:\\users\\karlc\\appdata\\local\\programs\\python\\python312\\lib\\site-packages (from google-auth->-r requirements.txt (line 11)) (4.9)\n",
      "Requirement already satisfied: shapely<3.0.0dev in c:\\users\\karlc\\appdata\\local\\programs\\python\\python312\\lib\\site-packages (from google-cloud-aiplatform->-r requirements.txt (line 12)) (2.0.6)\n",
      "Requirement already satisfied: docstring-parser<1 in c:\\users\\karlc\\appdata\\local\\programs\\python\\python312\\lib\\site-packages (from google-cloud-aiplatform->-r requirements.txt (line 12)) (0.16)\n",
      "Requirement already satisfied: python-dateutil<3.0dev,>=2.7.3 in c:\\users\\karlc\\appdata\\local\\programs\\python\\python312\\lib\\site-packages (from google-cloud-bigquery->-r requirements.txt (line 13)) (2.9.0.post0)\n",
      "Requirement already satisfied: grpc-google-iam-v1<1.0.0dev,>=0.12.4 in c:\\users\\karlc\\appdata\\local\\programs\\python\\python312\\lib\\site-packages (from google-cloud-resource-manager->-r requirements.txt (line 15)) (0.13.1)\n",
      "Requirement already satisfied: aiohappyeyeballs>=2.3.0 in c:\\users\\karlc\\appdata\\local\\programs\\python\\python312\\lib\\site-packages (from aiohttp<4.0.0,>=3.8.3->langchain->-r requirements.txt (line 2)) (2.4.3)\n",
      "Requirement already satisfied: aiosignal>=1.1.2 in c:\\users\\karlc\\appdata\\local\\programs\\python\\python312\\lib\\site-packages (from aiohttp<4.0.0,>=3.8.3->langchain->-r requirements.txt (line 2)) (1.3.1)\n",
      "Requirement already satisfied: attrs>=17.3.0 in c:\\users\\karlc\\appdata\\local\\programs\\python\\python312\\lib\\site-packages (from aiohttp<4.0.0,>=3.8.3->langchain->-r requirements.txt (line 2)) (24.2.0)\n",
      "Requirement already satisfied: frozenlist>=1.1.1 in c:\\users\\karlc\\appdata\\local\\programs\\python\\python312\\lib\\site-packages (from aiohttp<4.0.0,>=3.8.3->langchain->-r requirements.txt (line 2)) (1.4.1)\n",
      "Requirement already satisfied: multidict<7.0,>=4.5 in c:\\users\\karlc\\appdata\\local\\programs\\python\\python312\\lib\\site-packages (from aiohttp<4.0.0,>=3.8.3->langchain->-r requirements.txt (line 2)) (6.1.0)\n",
      "Requirement already satisfied: yarl<2.0,>=1.12.0 in c:\\users\\karlc\\appdata\\local\\programs\\python\\python312\\lib\\site-packages (from aiohttp<4.0.0,>=3.8.3->langchain->-r requirements.txt (line 2)) (1.14.0)\n",
      "Requirement already satisfied: pyproject_hooks in c:\\users\\karlc\\appdata\\local\\programs\\python\\python312\\lib\\site-packages (from build>=1.0.3->chromadb->-r requirements.txt (line 1)) (1.2.0)\n",
      "Requirement already satisfied: colorama in c:\\users\\karlc\\appdata\\local\\programs\\python\\python312\\lib\\site-packages (from build>=1.0.3->chromadb->-r requirements.txt (line 1)) (0.4.6)\n",
      "Requirement already satisfied: marshmallow<4.0.0,>=3.18.0 in c:\\users\\karlc\\appdata\\local\\programs\\python\\python312\\lib\\site-packages (from dataclasses-json<0.7,>=0.5.7->langchain_community->-r requirements.txt (line 5)) (3.22.0)\n",
      "Requirement already satisfied: typing-inspect<1,>=0.4.0 in c:\\users\\karlc\\appdata\\local\\programs\\python\\python312\\lib\\site-packages (from dataclasses-json<0.7,>=0.5.7->langchain_community->-r requirements.txt (line 5)) (0.9.0)\n",
      "Requirement already satisfied: starlette<0.39.0,>=0.37.2 in c:\\users\\karlc\\appdata\\local\\programs\\python\\python312\\lib\\site-packages (from fastapi>=0.95.2->chromadb->-r requirements.txt (line 1)) (0.38.6)\n",
      "Requirement already satisfied: grpcio-status<2.0.dev0,>=1.33.2 in c:\\users\\karlc\\appdata\\local\\programs\\python\\python312\\lib\\site-packages (from google-api-core[grpc]!=2.0.*,!=2.1.*,!=2.2.*,!=2.3.*,!=2.4.*,!=2.5.*,!=2.6.*,!=2.7.*,<3.0.0dev,>=1.34.1->google-cloud-aiplatform->-r requirements.txt (line 12)) (1.62.3)\n",
      "Requirement already satisfied: anyio in c:\\users\\karlc\\appdata\\local\\programs\\python\\python312\\lib\\site-packages (from httpx>=0.27.0->chromadb->-r requirements.txt (line 1)) (4.6.0)\n",
      "Requirement already satisfied: certifi in c:\\users\\karlc\\appdata\\local\\programs\\python\\python312\\lib\\site-packages (from httpx>=0.27.0->chromadb->-r requirements.txt (line 1)) (2024.8.30)\n",
      "Requirement already satisfied: httpcore==1.* in c:\\users\\karlc\\appdata\\local\\programs\\python\\python312\\lib\\site-packages (from httpx>=0.27.0->chromadb->-r requirements.txt (line 1)) (1.0.6)\n",
      "Requirement already satisfied: idna in c:\\users\\karlc\\appdata\\local\\programs\\python\\python312\\lib\\site-packages (from httpx>=0.27.0->chromadb->-r requirements.txt (line 1)) (3.10)\n",
      "Requirement already satisfied: sniffio in c:\\users\\karlc\\appdata\\local\\programs\\python\\python312\\lib\\site-packages (from httpx>=0.27.0->chromadb->-r requirements.txt (line 1)) (1.3.1)\n",
      "Requirement already satisfied: h11<0.15,>=0.13 in c:\\users\\karlc\\appdata\\local\\programs\\python\\python312\\lib\\site-packages (from httpcore==1.*->httpx>=0.27.0->chromadb->-r requirements.txt (line 1)) (0.14.0)\n",
      "Requirement already satisfied: jsonpointer>=1.9 in c:\\users\\karlc\\appdata\\local\\programs\\python\\python312\\lib\\site-packages (from jsonpatch<2.0,>=1.33->langchain_core->-r requirements.txt (line 3)) (3.0.0)\n",
      "Requirement already satisfied: six>=1.9.0 in c:\\users\\karlc\\appdata\\local\\programs\\python\\python312\\lib\\site-packages (from kubernetes>=28.1.0->chromadb->-r requirements.txt (line 1)) (1.16.0)\n",
      "Requirement already satisfied: websocket-client!=0.40.0,!=0.41.*,!=0.42.*,>=0.32.0 in c:\\users\\karlc\\appdata\\local\\programs\\python\\python312\\lib\\site-packages (from kubernetes>=28.1.0->chromadb->-r requirements.txt (line 1)) (1.8.0)\n",
      "Requirement already satisfied: requests-oauthlib in c:\\users\\karlc\\appdata\\local\\programs\\python\\python312\\lib\\site-packages (from kubernetes>=28.1.0->chromadb->-r requirements.txt (line 1)) (2.0.0)\n",
      "Requirement already satisfied: oauthlib>=3.2.2 in c:\\users\\karlc\\appdata\\local\\programs\\python\\python312\\lib\\site-packages (from kubernetes>=28.1.0->chromadb->-r requirements.txt (line 1)) (3.2.2)\n",
      "Requirement already satisfied: urllib3>=1.24.2 in c:\\users\\karlc\\appdata\\local\\programs\\python\\python312\\lib\\site-packages (from kubernetes>=28.1.0->chromadb->-r requirements.txt (line 1)) (2.2.3)\n",
      "Requirement already satisfied: durationpy>=0.7 in c:\\users\\karlc\\appdata\\local\\programs\\python\\python312\\lib\\site-packages (from kubernetes>=28.1.0->chromadb->-r requirements.txt (line 1)) (0.9)\n",
      "Requirement already satisfied: requests-toolbelt<2.0.0,>=1.0.0 in c:\\users\\karlc\\appdata\\local\\programs\\python\\python312\\lib\\site-packages (from langsmith<0.2.0,>=0.1.17->langchain->-r requirements.txt (line 2)) (1.0.0)\n",
      "Requirement already satisfied: coloredlogs in c:\\users\\karlc\\appdata\\local\\programs\\python\\python312\\lib\\site-packages (from onnxruntime>=1.14.1->chromadb->-r requirements.txt (line 1)) (15.0.1)\n",
      "Requirement already satisfied: flatbuffers in c:\\users\\karlc\\appdata\\local\\programs\\python\\python312\\lib\\site-packages (from onnxruntime>=1.14.1->chromadb->-r requirements.txt (line 1)) (24.3.25)\n",
      "Requirement already satisfied: sympy in c:\\users\\karlc\\appdata\\local\\programs\\python\\python312\\lib\\site-packages (from onnxruntime>=1.14.1->chromadb->-r requirements.txt (line 1)) (1.13.3)\n",
      "Requirement already satisfied: deprecated>=1.2.6 in c:\\users\\karlc\\appdata\\local\\programs\\python\\python312\\lib\\site-packages (from opentelemetry-api>=1.2.0->chromadb->-r requirements.txt (line 1)) (1.2.14)\n",
      "Requirement already satisfied: importlib-metadata<=8.4.0,>=6.0 in c:\\users\\karlc\\appdata\\local\\programs\\python\\python312\\lib\\site-packages (from opentelemetry-api>=1.2.0->chromadb->-r requirements.txt (line 1)) (8.4.0)\n",
      "Requirement already satisfied: opentelemetry-exporter-otlp-proto-common==1.27.0 in c:\\users\\karlc\\appdata\\local\\programs\\python\\python312\\lib\\site-packages (from opentelemetry-exporter-otlp-proto-grpc>=1.2.0->chromadb->-r requirements.txt (line 1)) (1.27.0)\n",
      "Requirement already satisfied: opentelemetry-proto==1.27.0 in c:\\users\\karlc\\appdata\\local\\programs\\python\\python312\\lib\\site-packages (from opentelemetry-exporter-otlp-proto-grpc>=1.2.0->chromadb->-r requirements.txt (line 1)) (1.27.0)\n",
      "Requirement already satisfied: opentelemetry-instrumentation-asgi==0.48b0 in c:\\users\\karlc\\appdata\\local\\programs\\python\\python312\\lib\\site-packages (from opentelemetry-instrumentation-fastapi>=0.41b0->chromadb->-r requirements.txt (line 1)) (0.48b0)\n",
      "Requirement already satisfied: opentelemetry-instrumentation==0.48b0 in c:\\users\\karlc\\appdata\\local\\programs\\python\\python312\\lib\\site-packages (from opentelemetry-instrumentation-fastapi>=0.41b0->chromadb->-r requirements.txt (line 1)) (0.48b0)\n",
      "Requirement already satisfied: opentelemetry-semantic-conventions==0.48b0 in c:\\users\\karlc\\appdata\\local\\programs\\python\\python312\\lib\\site-packages (from opentelemetry-instrumentation-fastapi>=0.41b0->chromadb->-r requirements.txt (line 1)) (0.48b0)\n",
      "Requirement already satisfied: opentelemetry-util-http==0.48b0 in c:\\users\\karlc\\appdata\\local\\programs\\python\\python312\\lib\\site-packages (from opentelemetry-instrumentation-fastapi>=0.41b0->chromadb->-r requirements.txt (line 1)) (0.48b0)\n",
      "Requirement already satisfied: setuptools>=16.0 in c:\\users\\karlc\\appdata\\local\\programs\\python\\python312\\lib\\site-packages (from opentelemetry-instrumentation==0.48b0->opentelemetry-instrumentation-fastapi>=0.41b0->chromadb->-r requirements.txt (line 1)) (75.1.0)\n",
      "Requirement already satisfied: wrapt<2.0.0,>=1.0.0 in c:\\users\\karlc\\appdata\\local\\programs\\python\\python312\\lib\\site-packages (from opentelemetry-instrumentation==0.48b0->opentelemetry-instrumentation-fastapi>=0.41b0->chromadb->-r requirements.txt (line 1)) (1.16.0)\n",
      "Requirement already satisfied: asgiref~=3.0 in c:\\users\\karlc\\appdata\\local\\programs\\python\\python312\\lib\\site-packages (from opentelemetry-instrumentation-asgi==0.48b0->opentelemetry-instrumentation-fastapi>=0.41b0->chromadb->-r requirements.txt (line 1)) (3.8.1)\n",
      "Requirement already satisfied: monotonic>=1.5 in c:\\users\\karlc\\appdata\\local\\programs\\python\\python312\\lib\\site-packages (from posthog>=2.4.0->chromadb->-r requirements.txt (line 1)) (1.6)\n",
      "Requirement already satisfied: backoff>=1.10.0 in c:\\users\\karlc\\appdata\\local\\programs\\python\\python312\\lib\\site-packages (from posthog>=2.4.0->chromadb->-r requirements.txt (line 1)) (2.2.1)\n",
      "Requirement already satisfied: pyasn1<0.7.0,>=0.4.6 in c:\\users\\karlc\\appdata\\local\\programs\\python\\python312\\lib\\site-packages (from pyasn1-modules>=0.2.1->google-auth->-r requirements.txt (line 11)) (0.6.1)\n",
      "Requirement already satisfied: annotated-types>=0.6.0 in c:\\users\\karlc\\appdata\\local\\programs\\python\\python312\\lib\\site-packages (from pydantic>=1.9->chromadb->-r requirements.txt (line 1)) (0.7.0)\n",
      "Requirement already satisfied: pydantic-core==2.23.4 in c:\\users\\karlc\\appdata\\local\\programs\\python\\python312\\lib\\site-packages (from pydantic>=1.9->chromadb->-r requirements.txt (line 1)) (2.23.4)\n",
      "Requirement already satisfied: python-dotenv>=0.21.0 in c:\\users\\karlc\\appdata\\local\\programs\\python\\python312\\lib\\site-packages (from pydantic-settings<3.0.0,>=2.4.0->langchain_community->-r requirements.txt (line 5)) (1.0.1)\n",
      "Requirement already satisfied: charset-normalizer<4,>=2 in c:\\users\\karlc\\appdata\\local\\programs\\python\\python312\\lib\\site-packages (from requests<3,>=2->langchain->-r requirements.txt (line 2)) (3.3.2)\n",
      "Requirement already satisfied: markdown-it-py>=2.2.0 in c:\\users\\karlc\\appdata\\local\\programs\\python\\python312\\lib\\site-packages (from rich>=10.11.0->chromadb->-r requirements.txt (line 1)) (3.0.0)\n",
      "Requirement already satisfied: pygments<3.0.0,>=2.13.0 in c:\\users\\karlc\\appdata\\local\\programs\\python\\python312\\lib\\site-packages (from rich>=10.11.0->chromadb->-r requirements.txt (line 1)) (2.18.0)\n",
      "Requirement already satisfied: greenlet!=0.4.17 in c:\\users\\karlc\\appdata\\local\\programs\\python\\python312\\lib\\site-packages (from SQLAlchemy<3,>=1.4->langchain->-r requirements.txt (line 2)) (3.1.1)\n",
      "Requirement already satisfied: huggingface-hub<1.0,>=0.16.4 in c:\\users\\karlc\\appdata\\local\\programs\\python\\python312\\lib\\site-packages (from tokenizers>=0.13.2->chromadb->-r requirements.txt (line 1)) (0.25.2)\n",
      "Requirement already satisfied: click>=8.0.0 in c:\\users\\karlc\\appdata\\local\\programs\\python\\python312\\lib\\site-packages (from typer>=0.9.0->chromadb->-r requirements.txt (line 1)) (8.1.7)\n",
      "Requirement already satisfied: shellingham>=1.3.0 in c:\\users\\karlc\\appdata\\local\\programs\\python\\python312\\lib\\site-packages (from typer>=0.9.0->chromadb->-r requirements.txt (line 1)) (1.5.4)\n",
      "Requirement already satisfied: httptools>=0.5.0 in c:\\users\\karlc\\appdata\\local\\programs\\python\\python312\\lib\\site-packages (from uvicorn[standard]>=0.18.3->chromadb->-r requirements.txt (line 1)) (0.6.1)\n",
      "Requirement already satisfied: watchfiles>=0.13 in c:\\users\\karlc\\appdata\\local\\programs\\python\\python312\\lib\\site-packages (from uvicorn[standard]>=0.18.3->chromadb->-r requirements.txt (line 1)) (0.24.0)\n",
      "Requirement already satisfied: websockets>=10.4 in c:\\users\\karlc\\appdata\\local\\programs\\python\\python312\\lib\\site-packages (from uvicorn[standard]>=0.18.3->chromadb->-r requirements.txt (line 1)) (13.1)\n",
      "Requirement already satisfied: soupsieve>1.2 in c:\\users\\karlc\\appdata\\local\\programs\\python\\python312\\lib\\site-packages (from beautifulsoup4->google->-r requirements.txt (line 9)) (2.6)\n",
      "Requirement already satisfied: filelock in c:\\users\\karlc\\appdata\\local\\programs\\python\\python312\\lib\\site-packages (from huggingface-hub<1.0,>=0.16.4->tokenizers>=0.13.2->chromadb->-r requirements.txt (line 1)) (3.16.1)\n",
      "Requirement already satisfied: fsspec>=2023.5.0 in c:\\users\\karlc\\appdata\\local\\programs\\python\\python312\\lib\\site-packages (from huggingface-hub<1.0,>=0.16.4->tokenizers>=0.13.2->chromadb->-r requirements.txt (line 1)) (2024.9.0)\n",
      "Requirement already satisfied: zipp>=0.5 in c:\\users\\karlc\\appdata\\local\\programs\\python\\python312\\lib\\site-packages (from importlib-metadata<=8.4.0,>=6.0->opentelemetry-api>=1.2.0->chromadb->-r requirements.txt (line 1)) (3.20.2)\n",
      "Requirement already satisfied: mdurl~=0.1 in c:\\users\\karlc\\appdata\\local\\programs\\python\\python312\\lib\\site-packages (from markdown-it-py>=2.2.0->rich>=10.11.0->chromadb->-r requirements.txt (line 1)) (0.1.2)\n",
      "Requirement already satisfied: mypy-extensions>=0.3.0 in c:\\users\\karlc\\appdata\\local\\programs\\python\\python312\\lib\\site-packages (from typing-inspect<1,>=0.4.0->dataclasses-json<0.7,>=0.5.7->langchain_community->-r requirements.txt (line 5)) (1.0.0)\n",
      "Requirement already satisfied: propcache>=0.2.0 in c:\\users\\karlc\\appdata\\local\\programs\\python\\python312\\lib\\site-packages (from yarl<2.0,>=1.12.0->aiohttp<4.0.0,>=3.8.3->langchain->-r requirements.txt (line 2)) (0.2.0)\n",
      "Requirement already satisfied: humanfriendly>=9.1 in c:\\users\\karlc\\appdata\\local\\programs\\python\\python312\\lib\\site-packages (from coloredlogs->onnxruntime>=1.14.1->chromadb->-r requirements.txt (line 1)) (10.0)\n",
      "Requirement already satisfied: mpmath<1.4,>=1.1.0 in c:\\users\\karlc\\appdata\\local\\programs\\python\\python312\\lib\\site-packages (from sympy->onnxruntime>=1.14.1->chromadb->-r requirements.txt (line 1)) (1.3.0)\n",
      "Requirement already satisfied: pyreadline3 in c:\\users\\karlc\\appdata\\local\\programs\\python\\python312\\lib\\site-packages (from humanfriendly>=9.1->coloredlogs->onnxruntime>=1.14.1->chromadb->-r requirements.txt (line 1)) (3.5.4)\n",
      "Note: you may need to restart the kernel to use updated packages.\n"
     ]
    }
   ],
   "source": [
    "%pip install -r requirements.txt"
   ]
  },
  {
   "cell_type": "markdown",
   "metadata": {},
   "source": [
    "### Load Credentials"
   ]
  },
  {
   "cell_type": "code",
   "execution_count": 17,
   "metadata": {},
   "outputs": [],
   "source": [
    "import os\n",
    "from google.oauth2.service_account import Credentials\n",
    "\n",
    "CREDENTIAL_PATHS = list(filter(\n",
    "    lambda f:\n",
    "    f.endswith('.json') and f.startswith('gcp_cred'),\n",
    "    os.listdir(os.path.abspath(''))))\n",
    "if not CREDENTIAL_PATHS:\n",
    "    raise FileNotFoundError(\n",
    "        \"No Google Cloud credentials found in the root directory.\\nInsure credential file starts with 'gcp_cred' and ends with '.json'\")\n",
    "\n",
    "CREDENTIALS = Credentials.from_service_account_file(CREDENTIAL_PATHS[0])"
   ]
  },
  {
   "cell_type": "markdown",
   "metadata": {},
   "source": [
    "### Define Model"
   ]
  },
  {
   "cell_type": "code",
   "execution_count": 18,
   "metadata": {},
   "outputs": [],
   "source": [
    "from langchain_google_vertexai import ChatVertexAI\n",
    "\n",
    "model = ChatVertexAI(\n",
    "    model=\"gemini-1.0-pro-vision\",\n",
    "    temperature=0.9, \n",
    "    max_tokens=2048,\n",
    "    timeout=None,\n",
    "    max_retries=2,\n",
    "    region=\"us-central1\",\n",
    "    credentials=CREDENTIALS,\n",
    "    project=CREDENTIALS.project_id,\n",
    ")"
   ]
  },
  {
   "cell_type": "markdown",
   "metadata": {},
   "source": [
    "### Direct Model Invoke"
   ]
  },
  {
   "cell_type": "code",
   "execution_count": 23,
   "metadata": {},
   "outputs": [
    {
     "name": "stdout",
     "output_type": "stream",
     "text": [
      "{'input_tokens': 8, 'output_tokens': 19, 'total_tokens': 27}\n",
      "Apples can vary in color, but the most common colors are red, green, and yellow.\n"
     ]
    }
   ],
   "source": [
    "response = model.invoke(\"What is the color of an apple?\")\n",
    "print(response.usage_metadata)\n",
    "print(response.content)"
   ]
  },
  {
   "cell_type": "markdown",
   "metadata": {},
   "source": [
    "### Chroma Data Retrival\n",
    "\n",
    "assume data is loaded to chroma db to persistant dir `chroma_db`"
   ]
  },
  {
   "cell_type": "code",
   "execution_count": 40,
   "metadata": {},
   "outputs": [],
   "source": [
    "from langchain_google_vertexai import VertexAIEmbeddings\n",
    "from langchain_chroma import Chroma\n",
    "\n",
    "embeddings = VertexAIEmbeddings(\n",
    "    credentials=CREDENTIALS,\n",
    "    project=CREDENTIALS.project_id,\n",
    "    model_name=\"text-multilingual-embedding-002\",\n",
    ")\n",
    "chroma_db = Chroma(\n",
    "    persist_directory=\"chroma_db\",\n",
    "    embedding_function=embeddings,\n",
    ")\n",
    "retriever = chroma_db.as_retriever()"
   ]
  },
  {
   "cell_type": "markdown",
   "metadata": {},
   "source": [
    "### Model RAG Text response\n",
    "\n",
    "chrom db is loaded with hong kong public transport information"
   ]
  },
  {
   "cell_type": "code",
   "execution_count": 45,
   "metadata": {},
   "outputs": [
    {
     "ename": "TypeError",
     "evalue": "Expected a Runnable, callable or dict.Instead got an unsupported type: <class 'list'>",
     "output_type": "error",
     "traceback": [
      "\u001b[1;31m---------------------------------------------------------------------------\u001b[0m",
      "\u001b[1;31mTypeError\u001b[0m                                 Traceback (most recent call last)",
      "Cell \u001b[1;32mIn[45], line 29\u001b[0m\n\u001b[0;32m     24\u001b[0m \u001b[38;5;66;03m# prompt = hub.pull(\"rlm/rag-prompt\")\u001b[39;00m\n\u001b[0;32m     26\u001b[0m question \u001b[38;5;241m=\u001b[39m \u001b[38;5;124m\"\u001b[39m\u001b[38;5;124mwhat route to Tism Sha Tsui are avalable at Amoy Garden?\u001b[39m\u001b[38;5;124m\"\u001b[39m\n\u001b[0;32m     28\u001b[0m rag_chain \u001b[38;5;241m=\u001b[39m (\n\u001b[1;32m---> 29\u001b[0m     \u001b[43m{\u001b[49m\n\u001b[0;32m     30\u001b[0m \u001b[43m        \u001b[49m\u001b[38;5;124;43m\"\u001b[39;49m\u001b[38;5;124;43mconversation\u001b[39;49m\u001b[38;5;124;43m\"\u001b[39;49m\u001b[43m:\u001b[49m\u001b[43m \u001b[49m\u001b[43m[\u001b[49m\n\u001b[0;32m     31\u001b[0m \u001b[43m            \u001b[49m\u001b[43m(\u001b[49m\u001b[38;5;124;43m\"\u001b[39;49m\u001b[38;5;124;43mhuman\u001b[39;49m\u001b[38;5;124;43m\"\u001b[39;49m\u001b[43m,\u001b[49m\u001b[43m \u001b[49m\u001b[38;5;124;43mf\u001b[39;49m\u001b[38;5;124;43m\"\u001b[39;49m\u001b[38;5;124;43mContext: \u001b[39;49m\u001b[38;5;132;43;01m{\u001b[39;49;00m\u001b[43mretriever\u001b[49m\u001b[38;5;241;43m.\u001b[39;49m\u001b[43mpipe\u001b[49m\u001b[43m(\u001b[49m\u001b[43mformat_docs\u001b[49m\u001b[43m)\u001b[49m\u001b[38;5;132;43;01m}\u001b[39;49;00m\u001b[38;5;130;43;01m\\n\u001b[39;49;00m\u001b[38;5;130;43;01m\\n\u001b[39;49;00m\u001b[38;5;132;43;01m{\u001b[39;49;00m\u001b[43mRunnablePassthrough\u001b[49m\u001b[43m(\u001b[49m\u001b[43m)\u001b[49m\u001b[38;5;132;43;01m}\u001b[39;49;00m\u001b[38;5;124;43m\"\u001b[39;49m\u001b[43m)\u001b[49m\u001b[43m,\u001b[49m\n\u001b[0;32m     32\u001b[0m \u001b[43m        \u001b[49m\u001b[43m]\u001b[49m\n\u001b[0;32m     33\u001b[0m \u001b[43m    \u001b[49m\u001b[43m}\u001b[49m\n\u001b[0;32m     34\u001b[0m \u001b[43m    \u001b[49m\u001b[38;5;241;43m|\u001b[39;49m\u001b[43m \u001b[49m\u001b[43mtemplate\u001b[49m\n\u001b[0;32m     35\u001b[0m     \u001b[38;5;241m|\u001b[39m model\n\u001b[0;32m     36\u001b[0m     \u001b[38;5;241m|\u001b[39m StrOutputParser()\n\u001b[0;32m     37\u001b[0m )\n",
      "File \u001b[1;32mc:\\Users\\karlc\\AppData\\Local\\Programs\\Python\\Python312\\Lib\\site-packages\\langchain_core\\runnables\\base.py:589\u001b[0m, in \u001b[0;36mRunnable.__ror__\u001b[1;34m(self, other)\u001b[0m\n\u001b[0;32m    579\u001b[0m \u001b[38;5;28;01mdef\u001b[39;00m \u001b[38;5;21m__ror__\u001b[39m(\n\u001b[0;32m    580\u001b[0m     \u001b[38;5;28mself\u001b[39m,\n\u001b[0;32m    581\u001b[0m     other: Union[\n\u001b[1;32m   (...)\u001b[0m\n\u001b[0;32m    586\u001b[0m     ],\n\u001b[0;32m    587\u001b[0m ) \u001b[38;5;241m-\u001b[39m\u001b[38;5;241m>\u001b[39m RunnableSerializable[Other, Output]:\n\u001b[0;32m    588\u001b[0m \u001b[38;5;250m    \u001b[39m\u001b[38;5;124;03m\"\"\"Compose this Runnable with another object to create a RunnableSequence.\"\"\"\u001b[39;00m\n\u001b[1;32m--> 589\u001b[0m     \u001b[38;5;28;01mreturn\u001b[39;00m RunnableSequence(\u001b[43mcoerce_to_runnable\u001b[49m\u001b[43m(\u001b[49m\u001b[43mother\u001b[49m\u001b[43m)\u001b[49m, \u001b[38;5;28mself\u001b[39m)\n",
      "File \u001b[1;32mc:\\Users\\karlc\\AppData\\Local\\Programs\\Python\\Python312\\Lib\\site-packages\\langchain_core\\runnables\\base.py:5837\u001b[0m, in \u001b[0;36mcoerce_to_runnable\u001b[1;34m(thing)\u001b[0m\n\u001b[0;32m   5835\u001b[0m     \u001b[38;5;28;01mreturn\u001b[39;00m RunnableLambda(cast(Callable[[Input], Output], thing))\n\u001b[0;32m   5836\u001b[0m \u001b[38;5;28;01melif\u001b[39;00m \u001b[38;5;28misinstance\u001b[39m(thing, \u001b[38;5;28mdict\u001b[39m):\n\u001b[1;32m-> 5837\u001b[0m     \u001b[38;5;28;01mreturn\u001b[39;00m cast(Runnable[Input, Output], \u001b[43mRunnableParallel\u001b[49m\u001b[43m(\u001b[49m\u001b[43mthing\u001b[49m\u001b[43m)\u001b[49m)\n\u001b[0;32m   5838\u001b[0m \u001b[38;5;28;01melse\u001b[39;00m:\n\u001b[0;32m   5839\u001b[0m     msg \u001b[38;5;241m=\u001b[39m (\n\u001b[0;32m   5840\u001b[0m         \u001b[38;5;124mf\u001b[39m\u001b[38;5;124m\"\u001b[39m\u001b[38;5;124mExpected a Runnable, callable or dict.\u001b[39m\u001b[38;5;124m\"\u001b[39m\n\u001b[0;32m   5841\u001b[0m         \u001b[38;5;124mf\u001b[39m\u001b[38;5;124m\"\u001b[39m\u001b[38;5;124mInstead got an unsupported type: \u001b[39m\u001b[38;5;132;01m{\u001b[39;00m\u001b[38;5;28mtype\u001b[39m(thing)\u001b[38;5;132;01m}\u001b[39;00m\u001b[38;5;124m\"\u001b[39m\n\u001b[0;32m   5842\u001b[0m     )\n",
      "File \u001b[1;32mc:\\Users\\karlc\\AppData\\Local\\Programs\\Python\\Python312\\Lib\\site-packages\\langchain_core\\runnables\\base.py:3539\u001b[0m, in \u001b[0;36mRunnableParallel.__init__\u001b[1;34m(self, steps__, **kwargs)\u001b[0m\n\u001b[0;32m   3536\u001b[0m merged \u001b[38;5;241m=\u001b[39m {\u001b[38;5;241m*\u001b[39m\u001b[38;5;241m*\u001b[39msteps__} \u001b[38;5;28;01mif\u001b[39;00m steps__ \u001b[38;5;129;01mis\u001b[39;00m \u001b[38;5;129;01mnot\u001b[39;00m \u001b[38;5;28;01mNone\u001b[39;00m \u001b[38;5;28;01melse\u001b[39;00m {}\n\u001b[0;32m   3537\u001b[0m merged\u001b[38;5;241m.\u001b[39mupdate(kwargs)\n\u001b[0;32m   3538\u001b[0m \u001b[38;5;28msuper\u001b[39m()\u001b[38;5;241m.\u001b[39m\u001b[38;5;21m__init__\u001b[39m(  \u001b[38;5;66;03m# type: ignore[call-arg]\u001b[39;00m\n\u001b[1;32m-> 3539\u001b[0m     steps__\u001b[38;5;241m=\u001b[39m{key: \u001b[43mcoerce_to_runnable\u001b[49m\u001b[43m(\u001b[49m\u001b[43mr\u001b[49m\u001b[43m)\u001b[49m \u001b[38;5;28;01mfor\u001b[39;00m key, r \u001b[38;5;129;01min\u001b[39;00m merged\u001b[38;5;241m.\u001b[39mitems()}\n\u001b[0;32m   3540\u001b[0m )\n",
      "File \u001b[1;32mc:\\Users\\karlc\\AppData\\Local\\Programs\\Python\\Python312\\Lib\\site-packages\\langchain_core\\runnables\\base.py:5843\u001b[0m, in \u001b[0;36mcoerce_to_runnable\u001b[1;34m(thing)\u001b[0m\n\u001b[0;32m   5838\u001b[0m \u001b[38;5;28;01melse\u001b[39;00m:\n\u001b[0;32m   5839\u001b[0m     msg \u001b[38;5;241m=\u001b[39m (\n\u001b[0;32m   5840\u001b[0m         \u001b[38;5;124mf\u001b[39m\u001b[38;5;124m\"\u001b[39m\u001b[38;5;124mExpected a Runnable, callable or dict.\u001b[39m\u001b[38;5;124m\"\u001b[39m\n\u001b[0;32m   5841\u001b[0m         \u001b[38;5;124mf\u001b[39m\u001b[38;5;124m\"\u001b[39m\u001b[38;5;124mInstead got an unsupported type: \u001b[39m\u001b[38;5;132;01m{\u001b[39;00m\u001b[38;5;28mtype\u001b[39m(thing)\u001b[38;5;132;01m}\u001b[39;00m\u001b[38;5;124m\"\u001b[39m\n\u001b[0;32m   5842\u001b[0m     )\n\u001b[1;32m-> 5843\u001b[0m     \u001b[38;5;28;01mraise\u001b[39;00m \u001b[38;5;167;01mTypeError\u001b[39;00m(msg)\n",
      "\u001b[1;31mTypeError\u001b[0m: Expected a Runnable, callable or dict.Instead got an unsupported type: <class 'list'>"
     ]
    }
   ],
   "source": [
    "from langchain_core.prompts import ChatPromptTemplate\n",
    "from langchain_core.runnables import RunnablePassthrough\n",
    "from langchain_core.output_parsers import StrOutputParser\n",
    "from langchain import hub\n",
    "\n",
    "\n",
    "def format_docs(docs):\n",
    "    return \"\\n\\n\".join(doc.page_content for doc in docs)\n",
    "\n",
    "\n",
    "template = ChatPromptTemplate([\n",
    "    (\"system\", \"You are a helpful AI bot. You should answer the user's questions based on the contextinformatino given\"),\n",
    "    (\"placeholder\", \"{conversation}\")\n",
    "])\n",
    "\n",
    "\n",
    "prompt = template.invoke(\n",
    "    {\n",
    "        \"conversation\": [\n",
    "            (\"human\", \"Context: {context}\\n\\n{question}\"),\n",
    "        ]\n",
    "    }\n",
    ")\n",
    "# prompt = hub.pull(\"rlm/rag-prompt\")\n",
    "\n",
    "question = \"what route to Tism Sha Tsui are avalable at Amoy Garden?\"\n",
    "\n",
    "rag_chain = (\n",
    "    [{\n",
    "        \"conversation\": [\n",
    "            (\"human\", f\"Context: {retriever.pipe(format_docs)}\\n\\n{RunnablePassthrough()}\"),\n",
    "        ]\n",
    "    }]\n",
    "    | template\n",
    "    | model\n",
    "    | StrOutputParser()\n",
    ")"
   ]
  }
 ],
 "metadata": {
  "kernelspec": {
   "display_name": "Python 3",
   "language": "python",
   "name": "python3"
  },
  "language_info": {
   "codemirror_mode": {
    "name": "ipython",
    "version": 3
   },
   "file_extension": ".py",
   "mimetype": "text/x-python",
   "name": "python",
   "nbconvert_exporter": "python",
   "pygments_lexer": "ipython3",
   "version": "3.12.7"
  }
 },
 "nbformat": 4,
 "nbformat_minor": 2
}
