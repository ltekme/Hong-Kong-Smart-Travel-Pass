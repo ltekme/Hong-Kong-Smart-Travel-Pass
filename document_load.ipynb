{
 "cells": [
  {
   "cell_type": "markdown",
   "metadata": {},
   "source": [
    "## Test langchain document loader"
   ]
  },
  {
   "cell_type": "code",
   "execution_count": null,
   "metadata": {},
   "outputs": [],
   "source": [
    "%pip install langchain_community jq"
   ]
  },
  {
   "cell_type": "code",
   "execution_count": null,
   "metadata": {},
   "outputs": [],
   "source": [
    "## clean document from chinese char\n",
    "import json\n",
    "\n",
    "with open(\"bus.json\", \"r\", encoding=\"utf-8-sig\") as f:\n",
    "    bus_json = f.read()\n",
    "    loaded_bus_json = json.loads(bus_json)\n",
    "    with open(\"bus_cleaned.json\", \"w\") as f:\n",
    "        json.dump(loaded_bus_json, f, indent=4)"
   ]
  },
  {
   "cell_type": "code",
   "execution_count": null,
   "metadata": {},
   "outputs": [],
   "source": [
    "import langchain_community.document_loaders as document_loaders\n",
    "kmb_loader = document_loaders.JSONLoader('./bus_cleaned.json', jq_schema=\".features\", text_content=False)\n",
    "kmb_loaded = kmb_loader.load()"
   ]
  }
 ],
 "metadata": {
  "language_info": {
   "name": "python"
  }
 },
 "nbformat": 4,
 "nbformat_minor": 2
}
