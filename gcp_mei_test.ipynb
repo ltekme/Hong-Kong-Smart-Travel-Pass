{
 "cells": [
  {
   "cell_type": "code",
   "execution_count": 1,
   "metadata": {},
   "outputs": [
    {
     "name": "stdout",
     "output_type": "stream",
     "text": [
      "Defaulting to user installation because normal site-packages is not writeable\n",
      "Note: you may need to restart the kernel to use updated packages.\n"
     ]
    },
    {
     "name": "stderr",
     "output_type": "stream",
     "text": [
      "ERROR: Could not find a version that satisfies the requirement google.oauth2 (from versions: none)\n",
      "ERROR: No matching distribution found for google.oauth2\n",
      "\n",
      "[notice] A new release of pip is available: 24.0 -> 24.2\n",
      "[notice] To update, run: python.exe -m pip install --upgrade pip\n"
     ]
    }
   ],
   "source": [
    "%pip install google.oauth2"
   ]
  },
  {
   "cell_type": "code",
   "execution_count": null,
   "metadata": {},
   "outputs": [],
   "source": [
    "from google.oauth2 import service_account\n",
    "\n",
    "credentials = service_account.Credentials.from_service_account_file(\"ive-fyp-436703-3a208c6d96a0.json\")\n",
    "\n",
    "PROJECT_ID = credentials.project_id\n",
    "REGION = \"us-west1\"\n",
    "BUCKET = \"cloud-ai-platform-e3951ed2-5567-46f8-add8-8c53fe152c8f\"\n",
    "BUCKET_URI = f\"gs://{BUCKET}\"\n",
    "\n",
    "# The number of dimensions for the textembedding-gecko@003 is 768\n",
    "# If other embedder is used, the dimensions would probably need to change.\n",
    "DIMENSIONS = 768\n",
    "\n",
    "# Index Constants\n",
    "DISPLAY_NAME = \"mei-test\"\n",
    "DEPLOYED_INDEX_ID = \"<my_matching_engine_endpoint_id>\""
   ]
  },
  {
   "cell_type": "code",
   "execution_count": null,
   "metadata": {},
   "outputs": [],
   "source": []
  }
 ],
 "metadata": {
  "kernelspec": {
   "display_name": "Python 3",
   "language": "python",
   "name": "python3"
  },
  "language_info": {
   "codemirror_mode": {
    "name": "ipython",
    "version": 3
   },
   "file_extension": ".py",
   "mimetype": "text/x-python",
   "name": "python",
   "nbconvert_exporter": "python",
   "pygments_lexer": "ipython3",
   "version": "3.12.4"
  }
 },
 "nbformat": 4,
 "nbformat_minor": 2
}
