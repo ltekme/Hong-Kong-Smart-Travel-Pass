{
 "cells": [
  {
   "cell_type": "code",
   "execution_count": 36,
   "metadata": {},
   "outputs": [
    {
     "name": "stdout",
     "output_type": "stream",
     "text": [
      "Defaulting to user installation because normal site-packages is not writeable\n",
      "Requirement already satisfied: google.cloud.texttospeech in /home/karl/.local/lib/python3.10/site-packages (2.17.2)\n",
      "Requirement already satisfied: pyaudio==0.2.12 in /home/karl/.local/lib/python3.10/site-packages (0.2.12)\n",
      "Requirement already satisfied: google-api-core[grpc]!=2.0.*,!=2.1.*,!=2.10.*,!=2.2.*,!=2.3.*,!=2.4.*,!=2.5.*,!=2.6.*,!=2.7.*,!=2.8.*,!=2.9.*,<3.0.0dev,>=1.34.1 in /home/karl/.local/lib/python3.10/site-packages (from google.cloud.texttospeech) (2.20.0)\n",
      "Requirement already satisfied: protobuf!=4.21.0,!=4.21.1,!=4.21.2,!=4.21.3,!=4.21.4,!=4.21.5,<6.0.0dev,>=3.20.2 in /home/karl/.local/lib/python3.10/site-packages (from google.cloud.texttospeech) (4.25.5)\n",
      "Requirement already satisfied: google-auth!=2.24.0,!=2.25.0,<3.0.0dev,>=2.14.1 in /home/karl/.local/lib/python3.10/site-packages (from google.cloud.texttospeech) (2.35.0)\n",
      "Requirement already satisfied: proto-plus<2.0.0dev,>=1.22.3 in /home/karl/.local/lib/python3.10/site-packages (from google.cloud.texttospeech) (1.24.0)\n",
      "Requirement already satisfied: googleapis-common-protos<2.0.dev0,>=1.56.2 in /home/karl/.local/lib/python3.10/site-packages (from google-api-core[grpc]!=2.0.*,!=2.1.*,!=2.10.*,!=2.2.*,!=2.3.*,!=2.4.*,!=2.5.*,!=2.6.*,!=2.7.*,!=2.8.*,!=2.9.*,<3.0.0dev,>=1.34.1->google.cloud.texttospeech) (1.65.0)\n",
      "Requirement already satisfied: requests<3.0.0.dev0,>=2.18.0 in /usr/lib/python3/dist-packages (from google-api-core[grpc]!=2.0.*,!=2.1.*,!=2.10.*,!=2.2.*,!=2.3.*,!=2.4.*,!=2.5.*,!=2.6.*,!=2.7.*,!=2.8.*,!=2.9.*,<3.0.0dev,>=1.34.1->google.cloud.texttospeech) (2.25.1)\n",
      "Requirement already satisfied: grpcio-status<2.0.dev0,>=1.33.2 in /home/karl/.local/lib/python3.10/site-packages (from google-api-core[grpc]!=2.0.*,!=2.1.*,!=2.10.*,!=2.2.*,!=2.3.*,!=2.4.*,!=2.5.*,!=2.6.*,!=2.7.*,!=2.8.*,!=2.9.*,<3.0.0dev,>=1.34.1->google.cloud.texttospeech) (1.62.3)\n",
      "Requirement already satisfied: grpcio<2.0dev,>=1.33.2 in /home/karl/.local/lib/python3.10/site-packages (from google-api-core[grpc]!=2.0.*,!=2.1.*,!=2.10.*,!=2.2.*,!=2.3.*,!=2.4.*,!=2.5.*,!=2.6.*,!=2.7.*,!=2.8.*,!=2.9.*,<3.0.0dev,>=1.34.1->google.cloud.texttospeech) (1.66.2)\n",
      "Requirement already satisfied: pyasn1-modules>=0.2.1 in /home/karl/.local/lib/python3.10/site-packages (from google-auth!=2.24.0,!=2.25.0,<3.0.0dev,>=2.14.1->google.cloud.texttospeech) (0.4.1)\n",
      "Requirement already satisfied: cachetools<6.0,>=2.0.0 in /home/karl/.local/lib/python3.10/site-packages (from google-auth!=2.24.0,!=2.25.0,<3.0.0dev,>=2.14.1->google.cloud.texttospeech) (5.5.0)\n",
      "Requirement already satisfied: rsa<5,>=3.1.4 in /usr/lib/python3/dist-packages (from google-auth!=2.24.0,!=2.25.0,<3.0.0dev,>=2.14.1->google.cloud.texttospeech) (4.8)\n",
      "Requirement already satisfied: pyasn1<0.7.0,>=0.4.6 in /usr/lib/python3/dist-packages (from pyasn1-modules>=0.2.1->google-auth!=2.24.0,!=2.25.0,<3.0.0dev,>=2.14.1->google.cloud.texttospeech) (0.4.8)\n",
      "Note: you may need to restart the kernel to use updated packages.\n"
     ]
    }
   ],
   "source": [
    "%pip install google.cloud.texttospeech pyaudio==0.2.12\n",
    "# sudo apt-get install portaudio19-dev python-pyaudio python3-pyaudio"
   ]
  },
  {
   "cell_type": "markdown",
   "metadata": {},
   "source": [
    "## Google Vertex AI TTS Test"
   ]
  },
  {
   "cell_type": "code",
   "execution_count": 37,
   "metadata": {},
   "outputs": [],
   "source": [
    "Text_to_speach = \"Hello, World!\""
   ]
  },
  {
   "cell_type": "code",
   "execution_count": 38,
   "metadata": {},
   "outputs": [],
   "source": [
    "from google.cloud import texttospeech\n",
    "from google.oauth2 import service_account\n",
    "\n",
    "credentials = service_account.Credentials.from_service_account_file(\"ive-fyp-436703-3a208c6d96a0.json\")\n",
    "\n",
    "client = texttospeech.TextToSpeechClient(\n",
    "    credentials=credentials\n",
    ")\n",
    "\n",
    "input_text = texttospeech.SynthesisInput(text=Text_to_speach)\n",
    "\n",
    "voice = texttospeech.VoiceSelectionParams(\n",
    "    language_code=\"en-US\",\n",
    "    name=\"en-US-Studio-O\",\n",
    ")\n",
    "\n",
    "audio_config = texttospeech.AudioConfig(\n",
    "    audio_encoding=texttospeech.AudioEncoding.LINEAR16,\n",
    "    speaking_rate=1\n",
    ")\n",
    "\n",
    "response = client.synthesize_speech(\n",
    "    request={\"input\": input_text, \"voice\": voice, \"audio_config\": audio_config}\n",
    ")"
   ]
  },
  {
   "cell_type": "code",
   "execution_count": 54,
   "metadata": {},
   "outputs": [],
   "source": [
    "import pyaudio  \n",
    "p = pyaudio.PyAudio()  \n",
    "stream = p.open(format = p.get_format_from_width(2), # paInt16 // LINEAR16 // 16 bit\n",
    "                channels = 1,  \n",
    "                rate = 24000,  \n",
    "                # This is headerless LINEAR16 audio with a sample rate of 24000. from google.cloud.texttospeech.AudioEncoding.LINEAR16\n",
    "                output = True)\n",
    "stream.write(response.audio_content)  \n",
    "stream.stop_stream()  \n",
    "stream.close()\n",
    "p.terminate() "
   ]
  }
 ],
 "metadata": {
  "kernelspec": {
   "display_name": "Python 3",
   "language": "python",
   "name": "python3"
  },
  "language_info": {
   "codemirror_mode": {
    "name": "ipython",
    "version": 3
   },
   "file_extension": ".py",
   "mimetype": "text/x-python",
   "name": "python",
   "nbconvert_exporter": "python",
   "pygments_lexer": "ipython3",
   "version": "3.10.12"
  }
 },
 "nbformat": 4,
 "nbformat_minor": 2
}
