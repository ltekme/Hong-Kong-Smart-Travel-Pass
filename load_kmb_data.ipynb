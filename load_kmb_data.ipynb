{
 "cells": [
  {
   "cell_type": "code",
   "execution_count": 1,
   "metadata": {},
   "outputs": [
    {
     "name": "stdout",
     "output_type": "stream",
     "text": [
      "Total number of bus stops:  54051\n"
     ]
    }
   ],
   "source": [
    "import json\n",
    "kmb_loaded = json.load(open('./bus.json', encoding='utf-8-sig'))\n",
    "kmb_loaded = kmb_loaded['features']\n",
    "print(\"Total number of bus stops: \", len(kmb_loaded))"
   ]
  },
  {
   "cell_type": "code",
   "execution_count": 2,
   "metadata": {},
   "outputs": [
    {
     "name": "stdout",
     "output_type": "stream",
     "text": [
      "[Document(metadata={}, page_content='{\"type\": \"Feature\", \"geometry\": {\"type\": \"Point\", \"coordinates\": [114.192446, 22.345353]}, \"properties\": {\"routeId\": 1001, \"companyCode\": \"KMB\", \"district\": \"\", \"routeNameC\": \"1\", \"routeNameS\": \"1\", \"routeNameE\": \"1\", \"routeType\": 1, \"serviceMode\": \"R\", \"specialType\": 0, \"journeyTime\": 49, \"locStartNameC\": \"\\\\u7af9\\\\u5712\\\\u90a8\", \"locStartNameS\": \"\\\\u7af9\\\\u56ed\\\\u90a8\", \"locStartNameE\": \"CHUK YUEN ESTATE\", \"locEndNameC\": \"\\\\u5c16\\\\u6c99\\\\u5480\\\\u78bc\\\\u982d\", \"locEndNameS\": \"\\\\u5c16\\\\u6c99\\\\u5480\\\\u7801\\\\u5934\", \"locEndNameE\": \"STAR FERRY\", \"hyperlinkC\": \"https://search.kmb.hk/KMBWebSite/?action=routesearch&route=1&lang=zh-hk\", \"hyperlinkS\": \"https://search.kmb.hk/KMBWebSite/?action=routesearch&route=1&lang=zh-cn\", \"hyperlinkE\": \"https://search.kmb.hk/KMBWebSite/?action=routesearch&route=1&lang=en\", \"fullFare\": 6.4, \"lastUpdateDate\": \"2023-07-07T00:00:00\", \"routeSeq\": 1, \"stopSeq\": 1, \"stopId\": 4001, \"stopPickDrop\": 2, \"stopNameC\": \"\\\\u7af9\\\\u5712\\\\u90a8\\\\u7e3d\\\\u7ad9\", \"stopNameS\": \"\\\\u7af9\\\\u56ed\\\\u90a8\\\\u603b\\\\u7ad9\", \"stopNameE\": \"CHUK YUEN ESTATE BUS TERMINUS\"}}'), Document(metadata={}, page_content='{\"type\": \"Feature\", \"geometry\": {\"type\": \"Point\", \"coordinates\": [114.190009, 22.345064]}, \"properties\": {\"routeId\": 1001, \"companyCode\": \"KMB\", \"district\": \"\", \"routeNameC\": \"1\", \"routeNameS\": \"1\", \"routeNameE\": \"1\", \"routeType\": 1, \"serviceMode\": \"R\", \"specialType\": 0, \"journeyTime\": 49, \"locStartNameC\": \"\\\\u7af9\\\\u5712\\\\u90a8\", \"locStartNameS\": \"\\\\u7af9\\\\u56ed\\\\u90a8\", \"locStartNameE\": \"CHUK YUEN ESTATE\", \"locEndNameC\": \"\\\\u5c16\\\\u6c99\\\\u5480\\\\u78bc\\\\u982d\", \"locEndNameS\": \"\\\\u5c16\\\\u6c99\\\\u5480\\\\u7801\\\\u5934\", \"locEndNameE\": \"STAR FERRY\", \"hyperlinkC\": \"https://search.kmb.hk/KMBWebSite/?action=routesearch&route=1&lang=zh-hk\", \"hyperlinkS\": \"https://search.kmb.hk/KMBWebSite/?action=routesearch&route=1&lang=zh-cn\", \"hyperlinkE\": \"https://search.kmb.hk/KMBWebSite/?action=routesearch&route=1&lang=en\", \"fullFare\": 6.4, \"lastUpdateDate\": \"2023-07-07T00:00:00\", \"routeSeq\": 1, \"stopSeq\": 2, \"stopId\": 4002, \"stopPickDrop\": 3, \"stopNameC\": \"\\\\u5929\\\\u8679\\\\u5c0f\\\\u5b78\", \"stopNameS\": \"\\\\u5929\\\\u8679\\\\u5c0f\\\\u5b66\", \"stopNameE\": \"RAINBOW PRIMARY SCHOOL\"}}'), Document(metadata={}, page_content='{\"type\": \"Feature\", \"geometry\": {\"type\": \"Point\", \"coordinates\": [114.187776, 22.344225]}, \"properties\": {\"routeId\": 1001, \"companyCode\": \"KMB\", \"district\": \"\", \"routeNameC\": \"1\", \"routeNameS\": \"1\", \"routeNameE\": \"1\", \"routeType\": 1, \"serviceMode\": \"R\", \"specialType\": 0, \"journeyTime\": 49, \"locStartNameC\": \"\\\\u7af9\\\\u5712\\\\u90a8\", \"locStartNameS\": \"\\\\u7af9\\\\u56ed\\\\u90a8\", \"locStartNameE\": \"CHUK YUEN ESTATE\", \"locEndNameC\": \"\\\\u5c16\\\\u6c99\\\\u5480\\\\u78bc\\\\u982d\", \"locEndNameS\": \"\\\\u5c16\\\\u6c99\\\\u5480\\\\u7801\\\\u5934\", \"locEndNameE\": \"STAR FERRY\", \"hyperlinkC\": \"https://search.kmb.hk/KMBWebSite/?action=routesearch&route=1&lang=zh-hk\", \"hyperlinkS\": \"https://search.kmb.hk/KMBWebSite/?action=routesearch&route=1&lang=zh-cn\", \"hyperlinkE\": \"https://search.kmb.hk/KMBWebSite/?action=routesearch&route=1&lang=en\", \"fullFare\": 6.4, \"lastUpdateDate\": \"2023-07-07T00:00:00\", \"routeSeq\": 1, \"stopSeq\": 3, \"stopId\": 4003, \"stopPickDrop\": 3, \"stopNameC\": \"\\\\u99ac\\\\u4ed4\\\\u5751\\\\u904a\\\\u6a02\\\\u5834\", \"stopNameS\": \"\\\\u9a6c\\\\u4ed4\\\\u5751\\\\u6e38\\\\u4e50\\\\u573a\", \"stopNameE\": \"MA CHAI HANG RECREATION GROUND\"}}'), Document(metadata={}, page_content='{\"type\": \"Feature\", \"geometry\": {\"type\": \"Point\", \"coordinates\": [114.189387, 22.339718]}, \"properties\": {\"routeId\": 1001, \"companyCode\": \"KMB\", \"district\": \"\", \"routeNameC\": \"1\", \"routeNameS\": \"1\", \"routeNameE\": \"1\", \"routeType\": 1, \"serviceMode\": \"R\", \"specialType\": 0, \"journeyTime\": 49, \"locStartNameC\": \"\\\\u7af9\\\\u5712\\\\u90a8\", \"locStartNameS\": \"\\\\u7af9\\\\u56ed\\\\u90a8\", \"locStartNameE\": \"CHUK YUEN ESTATE\", \"locEndNameC\": \"\\\\u5c16\\\\u6c99\\\\u5480\\\\u78bc\\\\u982d\", \"locEndNameS\": \"\\\\u5c16\\\\u6c99\\\\u5480\\\\u7801\\\\u5934\", \"locEndNameE\": \"STAR FERRY\", \"hyperlinkC\": \"https://search.kmb.hk/KMBWebSite/?action=routesearch&route=1&lang=zh-hk\", \"hyperlinkS\": \"https://search.kmb.hk/KMBWebSite/?action=routesearch&route=1&lang=zh-cn\", \"hyperlinkE\": \"https://search.kmb.hk/KMBWebSite/?action=routesearch&route=1&lang=en\", \"fullFare\": 6.4, \"lastUpdateDate\": \"2023-07-07T00:00:00\", \"routeSeq\": 1, \"stopSeq\": 4, \"stopId\": 4004, \"stopPickDrop\": 3, \"stopNameC\": \"\\\\u6469\\\\u58eb\\\\u516c\\\\u5712\", \"stopNameS\": \"\\\\u6469\\\\u58eb\\\\u516c\\\\u56ed\", \"stopNameE\": \"MORSE PARK\"}}'), Document(metadata={}, page_content='{\"type\": \"Feature\", \"geometry\": {\"type\": \"Point\", \"coordinates\": [114.189901, 22.337804]}, \"properties\": {\"routeId\": 1001, \"companyCode\": \"KMB\", \"district\": \"\", \"routeNameC\": \"1\", \"routeNameS\": \"1\", \"routeNameE\": \"1\", \"routeType\": 1, \"serviceMode\": \"R\", \"specialType\": 0, \"journeyTime\": 49, \"locStartNameC\": \"\\\\u7af9\\\\u5712\\\\u90a8\", \"locStartNameS\": \"\\\\u7af9\\\\u56ed\\\\u90a8\", \"locStartNameE\": \"CHUK YUEN ESTATE\", \"locEndNameC\": \"\\\\u5c16\\\\u6c99\\\\u5480\\\\u78bc\\\\u982d\", \"locEndNameS\": \"\\\\u5c16\\\\u6c99\\\\u5480\\\\u7801\\\\u5934\", \"locEndNameE\": \"STAR FERRY\", \"hyperlinkC\": \"https://search.kmb.hk/KMBWebSite/?action=routesearch&route=1&lang=zh-hk\", \"hyperlinkS\": \"https://search.kmb.hk/KMBWebSite/?action=routesearch&route=1&lang=zh-cn\", \"hyperlinkE\": \"https://search.kmb.hk/KMBWebSite/?action=routesearch&route=1&lang=en\", \"fullFare\": 6.4, \"lastUpdateDate\": \"2023-07-07T00:00:00\", \"routeSeq\": 1, \"stopSeq\": 5, \"stopId\": 4005, \"stopPickDrop\": 3, \"stopNameC\": \"\\\\u6469\\\\u58eb\\\\u516c\\\\u5712\\\\u9ad4\\\\u80b2\\\\u9928\", \"stopNameS\": \"\\\\u6469\\\\u58eb\\\\u516c\\\\u56ed\\\\u4f53\\\\u80b2\\\\u9986\", \"stopNameE\": \"MORSE PARK SPORTS CENTRE\"}}')]\n",
      "Total number of splits:  54051\n"
     ]
    }
   ],
   "source": [
    "from langchain_text_splitters import RecursiveJsonSplitter\n",
    "\n",
    "splitter = RecursiveJsonSplitter()\n",
    "splits = splitter.create_documents(kmb_loaded)\n",
    "print(splits[0:5])\n",
    "print(\"Total number of splits: \", len(splits))"
   ]
  },
  {
   "cell_type": "code",
   "execution_count": 3,
   "metadata": {},
   "outputs": [
    {
     "name": "stdout",
     "output_type": "stream",
     "text": [
      "Total number of chunks:  109\n"
     ]
    },
    {
     "ename": "",
     "evalue": "",
     "output_type": "error",
     "traceback": [
      "\u001b[1;31mThe Kernel crashed while executing code in the current cell or a previous cell. \n",
      "\u001b[1;31mPlease review the code in the cell(s) to identify a possible cause of the failure. \n",
      "\u001b[1;31mClick <a href='https://aka.ms/vscodeJupyterKernelCrash'>here</a> for more info. \n",
      "\u001b[1;31mView Jupyter <a href='command:jupyter.viewOutput'>log</a> for further details."
     ]
    }
   ],
   "source": [
    "def divide_chunks(l, n):\n",
    "    # looping till length l\n",
    "    for i in range(0, len(l), n):\n",
    "        yield l[i:i + n]\n",
    "\n",
    "chunks = list(divide_chunks(splits, 500))\n",
    "print(\"Total number of chunks: \", len(chunks))"
   ]
  },
  {
   "cell_type": "code",
   "execution_count": 4,
   "metadata": {},
   "outputs": [],
   "source": [
    "from google.oauth2.service_account import Credentials\n",
    "from langchain_chroma import Chroma\n",
    "from langchain_google_vertexai import VertexAIEmbeddings\n",
    "\n",
    "credentials = Credentials.from_service_account_file(\n",
    "    \"ive-fyp-436703-3a208c6d96a0.json\")\n",
    "\n",
    "vertexAIEmbeddings = VertexAIEmbeddings(\n",
    "    credentials=credentials,\n",
    "    project=credentials.project_id,\n",
    "    model_name=\"text-multilingual-embedding-002\",\n",
    ")\n",
    "\n",
    "vertex_store = Chroma(\n",
    "    collection_name='KMB',\n",
    "    embedding_function=vertexAIEmbeddings,\n",
    "    persist_directory='./chroma_db',\n",
    ")\n",
    "\n",
    "for c, i in enumerate(chunks):\n",
    "    print(vertex_store.add_documents(i))\n",
    "    print(f\"Added {c+1} chunks\")"
   ]
  }
 ],
 "metadata": {
  "kernelspec": {
   "display_name": "Python 3",
   "language": "python",
   "name": "python3"
  },
  "language_info": {
   "codemirror_mode": {
    "name": "ipython",
    "version": 3
   },
   "file_extension": ".py",
   "mimetype": "text/x-python",
   "name": "python",
   "nbconvert_exporter": "python",
   "pygments_lexer": "ipython3",
   "version": "3.12.4"
  }
 },
 "nbformat": 4,
 "nbformat_minor": 2
}
